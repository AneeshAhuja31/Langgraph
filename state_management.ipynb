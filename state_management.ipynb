{
 "cells": [
  {
   "cell_type": "markdown",
   "id": "a5489100",
   "metadata": {},
   "source": [
    "# State Management\n",
    "Langgraph introduces two key ideas to state management:\n",
    "- State Schemas: Define the type of object given to each of the graph's node\n",
    "- Reducers: They define how to apply Node outputs to the current state\n",
    "\n",
    "A state is a dictionary "
   ]
  },
  {
   "cell_type": "markdown",
   "id": "bd531009",
   "metadata": {},
   "source": []
  }
 ],
 "metadata": {
  "language_info": {
   "name": "python"
  }
 },
 "nbformat": 4,
 "nbformat_minor": 5
}
